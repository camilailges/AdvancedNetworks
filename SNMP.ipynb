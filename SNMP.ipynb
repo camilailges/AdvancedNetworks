{
 "cells": [
  {
   "cell_type": "markdown",
   "metadata": {},
   "source": [
    "# SNMP - Simple Network Management Protocol\n",
    "\n",
    "## Install snmpd tools, agent and mibs"
   ]
  },
  {
   "cell_type": "code",
   "execution_count": 5,
   "metadata": {},
   "outputs": [
    {
     "name": "stderr",
     "output_type": "stream",
     "text": [
      "sudo: a terminal is required to read the password; either use the -S option to read from standard input or configure an askpass helper\n",
      "sudo: a password is required\n",
      "sudo: a terminal is required to read the password; either use the -S option to read from standard input or configure an askpass helper\n",
      "sudo: a password is required\n"
     ]
    },
    {
     "ename": "CalledProcessError",
     "evalue": "Command 'b'\\n# Install SNMP - Linux\\nsudo apt update\\nsudo apt install -y snmp snmpd snmp-mibs-downloader\\n'' returned non-zero exit status 1.",
     "output_type": "error",
     "traceback": [
      "\u001b[0;31m---------------------------------------------------------------------------\u001b[0m",
      "\u001b[0;31mCalledProcessError\u001b[0m                        Traceback (most recent call last)",
      "Cell \u001b[0;32mIn[5], line 1\u001b[0m\n\u001b[0;32m----> 1\u001b[0m \u001b[43mget_ipython\u001b[49m\u001b[43m(\u001b[49m\u001b[43m)\u001b[49m\u001b[38;5;241;43m.\u001b[39;49m\u001b[43mrun_cell_magic\u001b[49m\u001b[43m(\u001b[49m\u001b[38;5;124;43m'\u001b[39;49m\u001b[38;5;124;43mbash\u001b[39;49m\u001b[38;5;124;43m'\u001b[39;49m\u001b[43m,\u001b[49m\u001b[43m \u001b[49m\u001b[38;5;124;43m'\u001b[39;49m\u001b[38;5;124;43m'\u001b[39;49m\u001b[43m,\u001b[49m\u001b[43m \u001b[49m\u001b[38;5;124;43m'\u001b[39;49m\u001b[38;5;130;43;01m\\n\u001b[39;49;00m\u001b[38;5;124;43m# Install SNMP - Linux\u001b[39;49m\u001b[38;5;130;43;01m\\n\u001b[39;49;00m\u001b[38;5;124;43msudo apt update\u001b[39;49m\u001b[38;5;130;43;01m\\n\u001b[39;49;00m\u001b[38;5;124;43msudo apt install -y snmp snmpd snmp-mibs-downloader\u001b[39;49m\u001b[38;5;130;43;01m\\n\u001b[39;49;00m\u001b[38;5;124;43m'\u001b[39;49m\u001b[43m)\u001b[49m\n",
      "File \u001b[0;32m~/Library/Python/3.9/lib/python/site-packages/IPython/core/interactiveshell.py:2517\u001b[0m, in \u001b[0;36mInteractiveShell.run_cell_magic\u001b[0;34m(self, magic_name, line, cell)\u001b[0m\n\u001b[1;32m   2515\u001b[0m \u001b[38;5;28;01mwith\u001b[39;00m \u001b[38;5;28mself\u001b[39m\u001b[38;5;241m.\u001b[39mbuiltin_trap:\n\u001b[1;32m   2516\u001b[0m     args \u001b[38;5;241m=\u001b[39m (magic_arg_s, cell)\n\u001b[0;32m-> 2517\u001b[0m     result \u001b[38;5;241m=\u001b[39m \u001b[43mfn\u001b[49m\u001b[43m(\u001b[49m\u001b[38;5;241;43m*\u001b[39;49m\u001b[43margs\u001b[49m\u001b[43m,\u001b[49m\u001b[43m \u001b[49m\u001b[38;5;241;43m*\u001b[39;49m\u001b[38;5;241;43m*\u001b[39;49m\u001b[43mkwargs\u001b[49m\u001b[43m)\u001b[49m\n\u001b[1;32m   2519\u001b[0m \u001b[38;5;66;03m# The code below prevents the output from being displayed\u001b[39;00m\n\u001b[1;32m   2520\u001b[0m \u001b[38;5;66;03m# when using magics with decorator @output_can_be_silenced\u001b[39;00m\n\u001b[1;32m   2521\u001b[0m \u001b[38;5;66;03m# when the last Python token in the expression is a ';'.\u001b[39;00m\n\u001b[1;32m   2522\u001b[0m \u001b[38;5;28;01mif\u001b[39;00m \u001b[38;5;28mgetattr\u001b[39m(fn, magic\u001b[38;5;241m.\u001b[39mMAGIC_OUTPUT_CAN_BE_SILENCED, \u001b[38;5;28;01mFalse\u001b[39;00m):\n",
      "File \u001b[0;32m~/Library/Python/3.9/lib/python/site-packages/IPython/core/magics/script.py:154\u001b[0m, in \u001b[0;36mScriptMagics._make_script_magic.<locals>.named_script_magic\u001b[0;34m(line, cell)\u001b[0m\n\u001b[1;32m    152\u001b[0m \u001b[38;5;28;01melse\u001b[39;00m:\n\u001b[1;32m    153\u001b[0m     line \u001b[38;5;241m=\u001b[39m script\n\u001b[0;32m--> 154\u001b[0m \u001b[38;5;28;01mreturn\u001b[39;00m \u001b[38;5;28;43mself\u001b[39;49m\u001b[38;5;241;43m.\u001b[39;49m\u001b[43mshebang\u001b[49m\u001b[43m(\u001b[49m\u001b[43mline\u001b[49m\u001b[43m,\u001b[49m\u001b[43m \u001b[49m\u001b[43mcell\u001b[49m\u001b[43m)\u001b[49m\n",
      "File \u001b[0;32m~/Library/Python/3.9/lib/python/site-packages/IPython/core/magics/script.py:314\u001b[0m, in \u001b[0;36mScriptMagics.shebang\u001b[0;34m(self, line, cell)\u001b[0m\n\u001b[1;32m    309\u001b[0m \u001b[38;5;28;01mif\u001b[39;00m args\u001b[38;5;241m.\u001b[39mraise_error \u001b[38;5;129;01mand\u001b[39;00m p\u001b[38;5;241m.\u001b[39mreturncode \u001b[38;5;241m!=\u001b[39m \u001b[38;5;241m0\u001b[39m:\n\u001b[1;32m    310\u001b[0m     \u001b[38;5;66;03m# If we get here and p.returncode is still None, we must have\u001b[39;00m\n\u001b[1;32m    311\u001b[0m     \u001b[38;5;66;03m# killed it but not yet seen its return code. We don't wait for it,\u001b[39;00m\n\u001b[1;32m    312\u001b[0m     \u001b[38;5;66;03m# in case it's stuck in uninterruptible sleep. -9 = SIGKILL\u001b[39;00m\n\u001b[1;32m    313\u001b[0m     rc \u001b[38;5;241m=\u001b[39m p\u001b[38;5;241m.\u001b[39mreturncode \u001b[38;5;129;01mor\u001b[39;00m \u001b[38;5;241m-\u001b[39m\u001b[38;5;241m9\u001b[39m\n\u001b[0;32m--> 314\u001b[0m     \u001b[38;5;28;01mraise\u001b[39;00m CalledProcessError(rc, cell)\n",
      "\u001b[0;31mCalledProcessError\u001b[0m: Command 'b'\\n# Install SNMP - Linux\\nsudo apt update\\nsudo apt install -y snmp snmpd snmp-mibs-downloader\\n'' returned non-zero exit status 1."
     ]
    }
   ],
   "source": [
    "%%bash\n",
    "\n",
    "# Install SNMP - Linux\n",
    "sudo apt update\n",
    "sudo apt install -y snmp snmpd snmp-mibs-downloader"
   ]
  },
  {
   "cell_type": "markdown",
   "metadata": {},
   "source": [
    "## Configure agent configuration file (/etc/snmp/snmpd.conf) and snmp tools configuration file (/etc/snmp/snmp.conf)"
   ]
  },
  {
   "cell_type": "code",
   "execution_count": null,
   "metadata": {},
   "outputs": [],
   "source": [
    "%%bash\n",
    "\n",
    "sudo mv /etc/snmp/snmpd.conf /etc/snmp/snmpd.conf.old\n",
    "\n",
    "sudo tee /etc/snmp/snmpd.conf > /dev/null <<EOF\n",
    "rocommunity public\n",
    "rwcommunity private\n",
    "EOF\n",
    "\n",
    "sudo sed -i '/mibs :/s/^/#/' /etc/snmp/snmp.conf"
   ]
  },
  {
   "cell_type": "markdown",
   "metadata": {},
   "source": [
    "## Start snmpd daemon (agent)"
   ]
  },
  {
   "cell_type": "code",
   "execution_count": null,
   "metadata": {},
   "outputs": [],
   "source": [
    "%%bash\n",
    "\n",
    "sudo service snmpd restart\n",
    "sudo service snmpd status\n",
    "\n",
    "# Mac\n",
    "# sudo launchctl unload /System/Library/LaunchDaemons/org.net-snmp.snmpd.plist\n",
    "# sudo launchctl load -w /System/Library/LaunchDaemons/org.net-snmp.snmpd.plist"
   ]
  },
  {
   "cell_type": "markdown",
   "metadata": {},
   "source": [
    "## Agent code"
   ]
  },
  {
   "cell_type": "code",
   "execution_count": 7,
   "metadata": {},
   "outputs": [
    {
     "name": "stdout",
     "output_type": "stream",
     "text": [
      "Usage: agent.py -g|-n|-s OID [type new_value]\n"
     ]
    }
   ],
   "source": [
    "#!/usr/bin/env python3\n",
    "import sys\n",
    "import json\n",
    "\n",
    "# Path to the JSON file with the SmartWatch data\n",
    "json_file_path = './smartwatch_data.json'\n",
    "\n",
    "def load_data():\n",
    "    try:\n",
    "        with open(json_file_path, 'r') as file:\n",
    "            return json.load(file)\n",
    "    except Exception as e:\n",
    "        print(\"Failed to load JSON data:\", e)\n",
    "        sys.exit(1)\n",
    "\n",
    "# Load the SmartWatch data at the start of the script\n",
    "smartwatch_data = load_data()\n",
    "\n",
    "\n",
    "\n",
    "def save_data():\n",
    "    try:\n",
    "        with open(json_file_path, 'w') as file:\n",
    "            json.dump(smartwatch_data, file, indent=4)\n",
    "        return \"Data saved successfully\"\n",
    "    except Exception as e:\n",
    "        return f\"Failed to save JSON data: {e}\"\n",
    "\n",
    "def get_oid_value(oid):\n",
    "    mappings = {\n",
    "        \".1.3.6.1.3.1234.1.1.0\": (\"string\", smartwatch_data[\"status\"]),\n",
    "        \".1.3.6.1.3.1234.1.2.0\": (\"string\", smartwatch_data[\"name\"]),\n",
    "        \".1.3.6.1.3.1234.1.3.0\": (\"integer\", smartwatch_data[\"daily_steps\"]),\n",
    "        \".1.3.6.1.3.1234.1.4.0\": (\"integer\", smartwatch_data[\"battery_level\"]),\n",
    "        \".1.3.6.1.3.1234.1.5.0\": (\"integer\", smartwatch_data[\"heart_rate\"]),\n",
    "        \".1.3.6.1.3.1234.1.6.0\": (\"integer\", int(smartwatch_data[\"power_saving_mode\"])),\n",
    "        \".1.3.6.1.3.1234.1.7.0\": (\"integer\", smartwatch_data[\"calories_burned\"]),\n",
    "        \".1.3.6.1.3.1234.1.8.0\": (\"integer\", smartwatch_data[\"distance_traveled\"]),\n",
    "        \".1.3.6.1.3.1234.1.9.0\": (\"integer\", int(smartwatch_data[\"connected_to_smartphone\"])),\n",
    "        \".1.3.6.1.3.1234.1.10.0\": (\"integer\", smartwatch_data[\"notifications\"]),\n",
    "        \".1.3.6.1.3.1234.1.11.0\": (\"integer\", smartwatch_data[\"step_goal\"]),\n",
    "        \".1.3.6.1.3.1234.1.12.0\": (\"integer\", int(smartwatch_data[\"is_charging\"])),\n",
    "        \".1.3.6.1.3.1234.1.13.1\": (\"integer\", smartwatch_data[\"sleep_cycle\"][\"deep\"]),\n",
    "        \".1.3.6.1.3.1234.1.13.2\": (\"integer\", smartwatch_data[\"sleep_cycle\"][\"light\"]),\n",
    "        \".1.3.6.1.3.1234.1.13.3\": (\"integer\", smartwatch_data[\"sleep_cycle\"][\"rem\"])\n",
    "    }\n",
    "    return mappings if oid is None else mappings.get(oid, (None, None))\n",
    "\n",
    "\n",
    "def handle_get(oid):\n",
    "    result = get_oid_value(oid)\n",
    "    if result[0] is not None:\n",
    "        return f\"{oid}\\n{result[0]}\\n{result[1]}\"\n",
    "    return \"NONE\"\n",
    "\n",
    "def handle_getnext(oid):\n",
    "    oids = sorted(get_oid_value(None).keys())\n",
    "    next_oid_index = oids.index(oid) + 1 if oid in oids else 0\n",
    "    if next_oid_index < len(oids):\n",
    "        return handle_get(oids[next_oid_index])\n",
    "    return \"NONE\"\n",
    "\n",
    "def handle_set(oid, type, value):\n",
    "    oid_key = oid.split('.')[-1]\n",
    "    writable_oids = {\n",
    "        \".1.3.6.1.3.1234.1.2.0\": \"name\",  # name (read-write)\n",
    "        \".1.3.6.1.3.1234.1.6.0\": \"power_saving_mode\",  # power_saving_mode (read-write, boolean)\n",
    "        \".1.3.6.1.3.1234.1.11.0\": \"step_goal\",  # step_goal (read-write)\n",
    "    }\n",
    "    if oid in writable_oids:\n",
    "        if type == \"integer\":\n",
    "            smartwatch_data[writable_oids[oid]] = int(value)\n",
    "        elif type == \"string\":\n",
    "            smartwatch_data[writable_oids[oid]] = value\n",
    "        else:\n",
    "            return \"Unsupported type for SET\"\n",
    "        save_data()\n",
    "        return f\"SET SUCCESS: {oid} set to {value}\"\n",
    "    return \"SET FAILURE: OID not writable or does not exist\"\n",
    "\n",
    "def main():\n",
    "    if len(sys.argv) < 3:\n",
    "        print(\"Usage: agent.py -g|-n|-s OID [type] [new_value]\")\n",
    "        return\n",
    "\n",
    "    request_type = sys.argv[1]\n",
    "    oid = sys.argv[2]\n",
    "\n",
    "    if request_type == \"-g\":  # GET request\n",
    "        print(handle_get(oid))\n",
    "    elif request_type == \"-n\":  # GETNEXT request\n",
    "        print(handle_getnext(oid))\n",
    "    elif request_type == \"-s\" and len(sys.argv) == 5:  # SET request\n",
    "        type = sys.argv[3]\n",
    "        new_value = sys.argv[4]\n",
    "        print(handle_set(oid, type, new_value))\n",
    "    else:\n",
    "        print(\"NONE\")\n",
    "\n",
    "if __name__ == \"__main__\":\n",
    "    main()\n"
   ]
  },
  {
   "cell_type": "markdown",
   "metadata": {},
   "source": [
    "## MIB"
   ]
  },
  {
   "cell_type": "code",
   "execution_count": null,
   "metadata": {},
   "outputs": [],
   "source": [
    "%%writefile MYMIB.txt\n",
    "\n",
    "SMARTWATCH-MIB DEFINITIONS ::= BEGIN\n",
    "\n",
    "IMPORTS\n",
    "    MODULE-IDENTITY, OBJECT-TYPE, Integer32\n",
    "        FROM SNMPv2-SMI\n",
    "    DisplayString, TruthValue\n",
    "        FROM SNMPv2-TC;\n",
    "\n",
    "smartWatchMIB MODULE-IDENTITY\n",
    "    LAST-UPDATED \"202407080000Z\"\n",
    "    ORGANIZATION \"PUCRS\"\n",
    "    CONTACT-INFO\n",
    "        \"admin@localhost\"\n",
    "    DESCRIPTION\n",
    "        \"MIB for accessing information about a smartwatch\"\n",
    "    ::= { experimental 54321 }\n",
    "\n",
    "smartWatch OBJECT IDENTIFIER ::= { smartWatchMIB 1 }\n",
    "\n",
    "status OBJECT-TYPE\n",
    "    SYNTAX DisplayString\n",
    "    MAX-ACCESS read-only\n",
    "    STATUS current\n",
    "    DESCRIPTION\n",
    "        \"Current state of the smart watch (on or off)\"\n",
    "    ::= { smartWatch 1 }\n",
    "\n",
    "name OBJECT-TYPE\n",
    "    SYNTAX DisplayString\n",
    "    MAX-ACCESS read-write\n",
    "    STATUS current\n",
    "    DESCRIPTION\n",
    "        \"The smart watch name\"\n",
    "    ::= { smartWatch 2 }\n",
    "\n",
    "dailySteps OBJECT-TYPE\n",
    "    SYNTAX Integer32\n",
    "    MAX-ACCESS read-only\n",
    "    STATUS current\n",
    "    DESCRIPTION\n",
    "        \"Total number of steps in the day\"\n",
    "    ::= { smartWatch 3 }\n",
    "\n",
    "batteryLevel OBJECT-TYPE\n",
    "    SYNTAX Integer32 (0..100)\n",
    "    MAX-ACCESS read-only\n",
    "    STATUS current\n",
    "    DESCRIPTION\n",
    "        \"Battery percentage of the smart watch\"\n",
    "    ::= { smartWatch 4 }\n",
    "\n",
    "heartRate OBJECT-TYPE\n",
    "    SYNTAX Integer32\n",
    "    MAX-ACCESS read-only\n",
    "    STATUS current\n",
    "    DESCRIPTION\n",
    "        \"Heart rate detected by the smart watch\"\n",
    "    ::= { smartWatch 5 }\n",
    "\n",
    "powerSavingMode OBJECT-TYPE\n",
    "    SYNTAX TruthValue\n",
    "    MAX-ACCESS read-write\n",
    "    STATUS current\n",
    "    DESCRIPTION\n",
    "        \"Indicates if power saving mode is on or off\"\n",
    "    ::= { smartWatch 6 }\n",
    "\n",
    "caloriesBurned OBJECT-TYPE\n",
    "    SYNTAX Integer32\n",
    "    MAX-ACCESS read-only\n",
    "    STATUS current\n",
    "    DESCRIPTION\n",
    "        \"Burned calories during the day\"\n",
    "    ::= { smartWatch 7 }\n",
    "\n",
    "distanceTraveled OBJECT-TYPE\n",
    "    SYNTAX Integer32\n",
    "    MAX-ACCESS read-only\n",
    "    STATUS current\n",
    "    DESCRIPTION\n",
    "        \"Distance travelled in a day\"\n",
    "    ::= { smartWatch 8 }\n",
    "\n",
    "connectedToSmartphone OBJECT-TYPE\n",
    "    SYNTAX TruthValue\n",
    "    MAX-ACCESS read-only\n",
    "    STATUS current\n",
    "    DESCRIPTION\n",
    "        \"Indicates if the smart watch is connected to a phone\"\n",
    "    ::= { smartWatch 9 }\n",
    "\n",
    "notifications OBJECT-TYPE\n",
    "    SYNTAX Integer32\n",
    "    MAX-ACCESS read-only\n",
    "    STATUS current\n",
    "    DESCRIPTION\n",
    "        \"Number of notifications received on the smart watch\"\n",
    "    ::= { smartWatch 10 }\n",
    "\n",
    "stepGoal OBJECT-TYPE\n",
    "    SYNTAX Integer32\n",
    "    MAX-ACCESS read-write\n",
    "    STATUS current\n",
    "    DESCRIPTION\n",
    "        \"Steps goal defined for the day\"\n",
    "    ::= { smartWatch 11 }\n",
    "\n",
    "isCharging OBJECT-TYPE\n",
    "    SYNTAX TruthValue\n",
    "    MAX-ACCESS read-only\n",
    "    STATUS current\n",
    "    DESCRIPTION\n",
    "        \"Indicates if the smart watch is being charged\"\n",
    "    ::= { smartWatch 12 }\n",
    "\n",
    "sleepCycleTable OBJECT-TYPE\n",
    "    SYNTAX SEQUENCE OF sleepPhase\n",
    "    MAX-ACCESS read-only\n",
    "    STATUS current\n",
    "    DESCRIPTION\n",
    "        \"Sleep phases and how many minutes the user got of each one\"\n",
    "    ::= { smartWatch 13 }\n",
    "\n",
    "sleepPhase OBJECT-TYPE\n",
    "    SYNTAX SleepPhase\n",
    "    MAX-ACCESS read-only\n",
    "    STATUS current\n",
    "    DESCRIPTION\n",
    "        \"Sleep phase\"\n",
    "    INDEX { sleepPhaseId }\n",
    "    ::= { sleepCycleTable 1 }\n",
    "\n",
    "SleepPhase ::= SEQUENCE {\n",
    "    sleepPhaseName DisplayString,\n",
    "    sleepingTime Integer32\n",
    "}\n",
    "\n",
    "sleepPhaseId OBJECT-TYPE\n",
    "    SYNTAX Integer32 { deep_sleep(1), light_sleep(2), rem(3)}\n",
    "    MAX-ACCESS read-only\n",
    "    STATUS current\n",
    "    DESCRIPTION\n",
    "        \"Sleep phase ID\"\n",
    "    ::= { sleepPhase 1 }\n",
    "\n",
    "sleepPhaseName OBJECT-TYPE\n",
    "    SYNTAX DisplayString\n",
    "    MAX-ACCESS read-only\n",
    "    STATUS current\n",
    "    DESCRIPTION\n",
    "        \"Sleep phase name\"\n",
    "    ::= { sleepPhase 2 }\n",
    "\n",
    "sleepingTime OBJECT-TYPE\n",
    "    SYNTAX Integer32\n",
    "    MAX-ACCESS read-only\n",
    "    STATUS current\n",
    "    DESCRIPTION\n",
    "        \"Time spent sleeping\"\n",
    "    ::= { sleepPhase 3 }\n",
    "\n",
    "END\n"
   ]
  },
  {
   "cell_type": "markdown",
   "metadata": {},
   "source": [
    "## Consultas"
   ]
  },
  {
   "cell_type": "code",
   "execution_count": 6,
   "metadata": {},
   "outputs": [
    {
     "name": "stderr",
     "output_type": "stream",
     "text": [
      "Timeout: No Response from localhost.\n",
      "Timeout: No Response from localhost.\n",
      "Timeout: No Response from localhost.\n",
      "Timeout: No Response from localhost.\n",
      "Timeout: No Response from localhost.\n",
      "Timeout: No Response from localhost.\n",
      "Timeout: No Response from localhost.\n",
      "Timeout: No Response from localhost.\n",
      "Timeout: No Response from localhost.\n",
      "Timeout: No Response from localhost.\n"
     ]
    },
    {
     "name": "stdout",
     "output_type": "stream",
     "text": [
      "Error while terminating subprocess (pid=30503): \n"
     ]
    },
    {
     "name": "stderr",
     "output_type": "stream",
     "text": [
      "Timeout: No Response from localhost.\n",
      "Timeout: No Response from localhost.\n",
      "Timeout: No Response from localhost.\n",
      "Timeout: No Response from localhost.\n",
      "Timeout: No Response from localhost.\n"
     ]
    }
   ],
   "source": [
    "%%bash\n",
    "\n",
    "snmpget -v2c -c public localhost .1.3.6.1.3.1234.1.1.0 \n",
    "snmpget -v2c -c public localhost .1.3.6.1.3.1234.1.2.0\n",
    "snmpget -v2c -c public localhost .1.3.6.1.3.1234.1.3.0 \n",
    "snmpget -v2c -c public localhost .1.3.6.1.3.1234.1.4.0 \n",
    "snmpget -v2c -c public localhost .1.3.6.1.3.1234.1.5.0 \n",
    "snmpget -v2c -c public localhost .1.3.6.1.3.1234.1.6.0 \n",
    "snmpget -v2c -c public localhost .1.3.6.1.3.1234.1.7.0 \n",
    "snmpget -v2c -c public localhost .1.3.6.1.3.1234.1.8.0 \n",
    "snmpget -v2c -c public localhost .1.3.6.1.3.1234.1.9.0 \n",
    "snmpget -v2c -c public localhost .1.3.6.1.3.1234.1.10.0\n",
    "snmpget -v2c -c public localhost .1.3.6.1.3.1234.1.11.0\n",
    "snmpget -v2c -c public localhost .1.3.6.1.3.1234.1.12.0\n",
    "snmpget -v2c -c public localhost .1.3.6.1.3.1234.1.13.1\n",
    "snmpget -v2c -c public localhost .1.3.6.1.3.1234.1.13.2\n",
    "snmpget -v2c -c public localhost .1.3.6.1.3.1234.1.13.3\n",
    "\n",
    "snmpgetnext -v2c -c public localhost .1.3.6.1.3.1234.1.1\n",
    "snmpgetnext -v2c -c public localhost .1.3.6.1.3.1234.1.1.1.1\n",
    "snmpgetnext -v2c -c public localhost .1.3.6.1.3.1234.1.1.1.1.1\n",
    "snmpgetnext -v2c -c public localhost .1.3.6.1.3.1234.1.1.1.1.2\n",
    "snmpgetnext -v2c -c public localhost .1.3.6.1.3.1234.1.1.1.1.3\n",
    "snmpgetnext -v2c -c public localhost .1.3.6.1.3.1234.1.1.1.2.1\n",
    "snmpgetnext -v2c -c public localhost .1.3.6.1.3.1234.1.1.1.2.2"
   ]
  },
  {
   "cell_type": "markdown",
   "metadata": {},
   "source": [
    "## Set"
   ]
  },
  {
   "cell_type": "code",
   "execution_count": null,
   "metadata": {},
   "outputs": [],
   "source": [
    "%%bash\n",
    "\n",
    "snmpset -v2c -c private localhost .1.3.6.1.3.1234.1.1.0 s \"off\"\n",
    "snmpset -v2c -c private localhost .1.3.6.1.3.1234.1.11.0 integer 15000"
   ]
  },
  {
   "cell_type": "markdown",
   "metadata": {},
   "source": [
    "## Consulta atualizada"
   ]
  },
  {
   "cell_type": "code",
   "execution_count": null,
   "metadata": {},
   "outputs": [],
   "source": [
    "%%bash\n",
    "\n",
    "snmpget -v2c -c public localhost .1.3.6.1.3.1234.1.1.0\n",
    "snmpget -v2c -c public localhost .1.3.6.1.3.1234.1.11.0"
   ]
  }
 ],
 "metadata": {
  "kernelspec": {
   "display_name": "Python 3",
   "language": "python",
   "name": "python3"
  },
  "language_info": {
   "codemirror_mode": {
    "name": "ipython",
    "version": 3
   },
   "file_extension": ".py",
   "mimetype": "text/x-python",
   "name": "python",
   "nbconvert_exporter": "python",
   "pygments_lexer": "ipython3",
   "version": "3.9.6"
  }
 },
 "nbformat": 4,
 "nbformat_minor": 2
}
